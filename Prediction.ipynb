{
 "cells": [
  {
   "cell_type": "code",
   "execution_count": 1,
   "id": "thousand-father",
   "metadata": {},
   "outputs": [],
   "source": [
    "import cv2\n",
    "import numpy as np"
   ]
  },
  {
   "cell_type": "code",
   "execution_count": 2,
   "id": "strong-blend",
   "metadata": {},
   "outputs": [],
   "source": [
    "from tensorflow import keras"
   ]
  },
  {
   "cell_type": "code",
   "execution_count": 3,
   "id": "disciplinary-aquarium",
   "metadata": {},
   "outputs": [],
   "source": [
    "from keras_self_attention import SeqSelfAttention"
   ]
  },
  {
   "cell_type": "code",
   "execution_count": 4,
   "id": "harmful-seeking",
   "metadata": {},
   "outputs": [],
   "source": [
    "model =  keras.models.load_model('lracn__Loss_0.594653308391571__Accuracy_0.8135592937469482.h5', \n",
    "                   custom_objects={'SeqSelfAttention': SeqSelfAttention})"
   ]
  },
  {
   "cell_type": "code",
   "execution_count": 5,
   "id": "healthy-antibody",
   "metadata": {},
   "outputs": [],
   "source": [
    "IMAGE_HEIGHT , IMAGE_WIDTH = 64, 64\n",
    "CLASSES_LIST = [\"jump\", \"punch\", \"pushup\", \"pullup\", \"handstand\"]"
   ]
  },
  {
   "cell_type": "code",
   "execution_count": 6,
   "id": "written-deployment",
   "metadata": {},
   "outputs": [],
   "source": [
    "def predict(videopath, SEQUENCE_LENGTH):\n",
    "    video_reader = cv2.VideoCapture(videopath)\n",
    "    original_video_width = int(video_reader.get(cv2.CAP_PROP_FRAME_WIDTH))\n",
    "    original_video_height = int(video_reader.get(cv2.CAP_PROP_FRAME_HEIGHT))\n",
    " \n",
    "    frames_list = []\n",
    "    \n",
    "    predicted_class_name = ''\n",
    "\n",
    "    video_frames_count = int(video_reader.get(cv2.CAP_PROP_FRAME_COUNT))\n",
    "    skip_frames_window = max(int(video_frames_count/SEQUENCE_LENGTH),1)\n",
    " \n",
    "\n",
    "    for frame_counter in range(SEQUENCE_LENGTH):\n",
    "        video_reader.set(cv2.CAP_PROP_POS_FRAMES, frame_counter * skip_frames_window)\n",
    "        success, frame = video_reader.read() \n",
    "        if not success:\n",
    "            break\n",
    "\n",
    "        resized_frame = cv2.resize(frame, (IMAGE_HEIGHT, IMAGE_WIDTH))\n",
    "        normalized_frame = resized_frame / 255\n",
    "\n",
    "        frames_list.append(normalized_frame)\n",
    "    \n",
    "    predicted_labels_probabilities = model.predict(np.expand_dims(frames_list, axis = 0))[0]\n",
    "    predicted_label = np.argmax(predicted_labels_probabilities)\n",
    "    predicted_class_name = CLASSES_LIST[predicted_label]\n",
    "    \n",
    "    print(f'Predicted Class: {predicted_class_name}\\nConfidence: {predicted_labels_probabilities[predicted_label]}')\n",
    "\n",
    "    video_reader.release()"
   ]
  },
  {
   "cell_type": "code",
   "execution_count": 7,
   "id": "acute-hypothetical",
   "metadata": {},
   "outputs": [
    {
     "name": "stdout",
     "output_type": "stream",
     "text": [
      "Predicted Class: punch\n",
      "Confidence: 0.995488703250885\n"
     ]
    }
   ],
   "source": [
    "predict('hmdb51/punch/AdvancedBoxingTechniquesandExercises_punch_u_nm_np1_ri_med_24.avi',30)"
   ]
  },
  {
   "cell_type": "code",
   "execution_count": 8,
   "id": "initial-evidence",
   "metadata": {},
   "outputs": [
    {
     "name": "stdout",
     "output_type": "stream",
     "text": [
      "Predicted Class: jump\n",
      "Confidence: 0.9076400399208069\n"
     ]
    }
   ],
   "source": [
    "predict('hmdb51/jump/THE_PROTECTOR_jump_f_nm_np1_ba_bad_90.avi',30)"
   ]
  },
  {
   "cell_type": "code",
   "execution_count": 9,
   "id": "unique-norman",
   "metadata": {},
   "outputs": [
    {
     "name": "stdout",
     "output_type": "stream",
     "text": [
      "Predicted Class: punch\n",
      "Confidence: 0.9693729281425476\n"
     ]
    }
   ],
   "source": [
    "predict('hmdb51/z_testing/Aman_1.mp4',30)"
   ]
  },
  {
   "cell_type": "code",
   "execution_count": 10,
   "id": "damaged-audit",
   "metadata": {},
   "outputs": [
    {
     "name": "stdout",
     "output_type": "stream",
     "text": [
      "Predicted Class: pushup\n",
      "Confidence: 0.5832154154777527\n"
     ]
    }
   ],
   "source": [
    "predict('hmdb51/z_testing/VID_20220512_162404.mp4', 30)"
   ]
  },
  {
   "cell_type": "code",
   "execution_count": 11,
   "id": "backed-economy",
   "metadata": {},
   "outputs": [
    {
     "name": "stdout",
     "output_type": "stream",
     "text": [
      "Predicted Class: pullup\n",
      "Confidence: 0.4325949251651764\n"
     ]
    }
   ],
   "source": [
    "predict('hmdb51/z_testing/VID_20220512_162016.mp4', 30)"
   ]
  },
  {
   "cell_type": "code",
   "execution_count": 12,
   "id": "recognized-transformation",
   "metadata": {},
   "outputs": [
    {
     "name": "stdout",
     "output_type": "stream",
     "text": [
      "Predicted Class: handstand\n",
      "Confidence: 0.9843642115592957\n"
     ]
    }
   ],
   "source": [
    "predict('hmdb51/z_testing/VID_20220512_161605.mp4', 30)"
   ]
  },
  {
   "cell_type": "code",
   "execution_count": 13,
   "id": "legal-institute",
   "metadata": {},
   "outputs": [
    {
     "name": "stdout",
     "output_type": "stream",
     "text": [
      "Predicted Class: jump\n",
      "Confidence: 0.9701799154281616\n"
     ]
    }
   ],
   "source": [
    "predict('hmdb51/z_testing/Jump5.mp4', 30)"
   ]
  }
 ],
 "metadata": {
  "kernelspec": {
   "display_name": "Python 3",
   "language": "python",
   "name": "python3"
  },
  "language_info": {
   "codemirror_mode": {
    "name": "ipython",
    "version": 3
   },
   "file_extension": ".py",
   "mimetype": "text/x-python",
   "name": "python",
   "nbconvert_exporter": "python",
   "pygments_lexer": "ipython3",
   "version": "3.8.5"
  }
 },
 "nbformat": 4,
 "nbformat_minor": 5
}
